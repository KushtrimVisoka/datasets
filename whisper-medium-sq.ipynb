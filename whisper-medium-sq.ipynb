{
 "cells": [
  {
   "cell_type": "markdown",
   "metadata": {},
   "source": [
    "# <a id='toc1_'></a>[Run Whisper Medium Shqip](#toc0_)\n",
    "\n",
    "Ky model është i trajnuar në gjuhën shqipe dhe mund të përdoret për të transkriptuar zërin në tekst. Është i bazuar në modelin [openai/whisper-medium](https://huggingface.co/openai/whisper-medium) i zhvilluar nga OpenAI. \n",
    "\n",
    "Hapat para se të përdorni këtë model janë:\n",
    "\n",
    "1. Krijo një llogari në Hugging Face (nëse nuk keni një).\n",
    "2. Krijo një token për autentifikim (API token) në [Settings -> Access Tokens](https://huggingface.co/settings/tokens)\n",
    "3. Kopjo tokenin dhe ruaje në një skedar teksti.\n",
    "4. Shko në [Kushtrim/whisper-medium-sq](https://huggingface.co/Kushtrim/whisper-medium-sq) dhe kërko autorizim për përdorim."
   ]
  },
  {
   "cell_type": "markdown",
   "metadata": {},
   "source": [
    "**Table of contents**<a id='toc0_'></a>    \n",
    "- [Run Whisper Medium Shqip](#toc1_)    \n",
    "  - [Install libraries](#toc1_1_)    \n",
    "  - [Load libraries](#toc1_2_)    \n",
    "  - [HuggingFace Login](#toc1_3_)    \n",
    "  - [Load model](#toc1_4_)    \n",
    "  - [Transcribe audio](#toc1_5_)    \n",
    "\n",
    "<!-- vscode-jupyter-toc-config\n",
    "\tnumbering=false\n",
    "\tanchor=true\n",
    "\tflat=false\n",
    "\tminLevel=1\n",
    "\tmaxLevel=6\n",
    "\t/vscode-jupyter-toc-config -->\n",
    "<!-- THIS CELL WILL BE REPLACED ON TOC UPDATE. DO NOT WRITE YOUR TEXT IN THIS CELL -->"
   ]
  },
  {
   "cell_type": "markdown",
   "metadata": {},
   "source": [
    "## <a id='toc1_1_'></a>[Install libraries](#toc0_)"
   ]
  },
  {
   "cell_type": "code",
   "execution_count": null,
   "metadata": {},
   "outputs": [],
   "source": [
    "!pip install --upgrade --quiet transformers huggingface-hub datasets"
   ]
  },
  {
   "cell_type": "markdown",
   "metadata": {},
   "source": [
    "## <a id='toc1_2_'></a>[Load libraries](#toc0_)"
   ]
  },
  {
   "cell_type": "code",
   "execution_count": null,
   "metadata": {},
   "outputs": [],
   "source": [
    "from transformers import AutoModelForSpeechSeq2Seq, AutoProcessor, pipeline\n",
    "from huggingface_hub import notebook_login\n",
    "import requests\n",
    "import torch"
   ]
  },
  {
   "cell_type": "markdown",
   "metadata": {},
   "source": [
    "## <a id='toc1_3_'></a>[HuggingFace Login](#toc0_)"
   ]
  },
  {
   "cell_type": "code",
   "execution_count": null,
   "metadata": {},
   "outputs": [],
   "source": [
    "# vendos access token ketu:\n",
    "notebook_login()"
   ]
  },
  {
   "cell_type": "markdown",
   "metadata": {},
   "source": [
    "## <a id='toc1_4_'></a>[Load model](#toc0_)"
   ]
  },
  {
   "cell_type": "code",
   "execution_count": null,
   "metadata": {},
   "outputs": [],
   "source": [
    "device = \"cuda:0\" if torch.cuda.is_available() else \"cpu\"\n",
    "torch_dtype = torch.float16 if torch.cuda.is_available() else torch.float32\n",
    "model_id = \"Kushtrim/whisper-medium-sq\"\n",
    "model = AutoModelForSpeechSeq2Seq.from_pretrained(model_id, torch_dtype=torch_dtype, use_safetensors=True).to(device)\n",
    "processor = AutoProcessor.from_pretrained(model_id)\n",
    "pipe = pipeline(\"automatic-speech-recognition\", model=model, tokenizer=processor.tokenizer, feature_extractor=processor.feature_extractor,\n",
    "                max_new_tokens=128, chunk_length_s=15, batch_size=16, torch_dtype=torch_dtype, device=device)"
   ]
  },
  {
   "cell_type": "markdown",
   "metadata": {},
   "source": [
    "## <a id='toc1_5_'></a>[Transcribe audio](#toc0_)"
   ]
  },
  {
   "cell_type": "code",
   "execution_count": null,
   "metadata": {},
   "outputs": [],
   "source": [
    "# Download a sample\n",
    "\n",
    "def download_file(url, local_filename):\n",
    "    # Send a GET request to the URL\n",
    "    response = requests.get(url, stream=True)\n",
    "    \n",
    "    # Check if the request was successful\n",
    "    if response.status_code == 200:\n",
    "        # Open a local file with write-binary mode\n",
    "        with open(local_filename, 'wb') as f:\n",
    "            # Write the content of the response in chunks\n",
    "            for chunk in response.iter_content(chunk_size=8192):\n",
    "                f.write(chunk)\n",
    "        print(f\"File downloaded successfully: {local_filename}\")\n",
    "    else:\n",
    "        print(f\"Failed to download file. Status code: {response.status_code}\")\n",
    "\n",
    "\n",
    "# Example usage\n",
    "url = 'https://github.com/KushtrimVisoka/datasets/raw/main/deklarata-e-pavaresise-se-kosoves.mp3'\n",
    "local_filename = 'deklarata-e-pavaresise-se-kosoves.mp3'\n",
    "download_file(url, local_filename)\n"
   ]
  },
  {
   "cell_type": "code",
   "execution_count": null,
   "metadata": {},
   "outputs": [],
   "source": [
    "results = pipe(\"deklarata-e-pavaresise-se-kosoves.mp3\", return_timestamps=True, generate_kwargs={'task': 'transcribe', 'language': 'sq'})\n",
    "print(results)"
   ]
  }
 ],
 "metadata": {
  "kernelspec": {
   "display_name": "Python 3",
   "language": "python",
   "name": "python3"
  },
  "language_info": {
   "codemirror_mode": {
    "name": "ipython",
    "version": 3
   },
   "file_extension": ".py",
   "mimetype": "text/x-python",
   "name": "python",
   "nbconvert_exporter": "python",
   "pygments_lexer": "ipython3",
   "version": "3.12.3"
  }
 },
 "nbformat": 4,
 "nbformat_minor": 2
}
